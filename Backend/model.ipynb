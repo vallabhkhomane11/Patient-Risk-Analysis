{
  "cells": [
    {
      "cell_type": "code",
      "execution_count": 1,
      "metadata": {
        "colab": {
          "base_uri": "https://localhost:8080/"
        },
        "id": "xB4txklrmwem",
        "outputId": "bd264dfa-02ba-412d-e388-b4493b6ec802"
      },
      "outputs": [
        {
          "name": "stdout",
          "output_type": "stream",
          "text": [
            "Collecting fastapi\n",
            "  Using cached fastapi-0.115.12-py3-none-any.whl.metadata (27 kB)\n",
            "Collecting uvicorn\n",
            "  Using cached uvicorn-0.34.0-py3-none-any.whl.metadata (6.5 kB)\n",
            "Requirement already satisfied: nest-asyncio in c:\\users\\vallabh\\anaconda3\\lib\\site-packages (1.6.0)\n",
            "Collecting pyngrok\n",
            "  Downloading pyngrok-7.2.3-py3-none-any.whl.metadata (8.7 kB)\n",
            "Collecting starlette<0.47.0,>=0.40.0 (from fastapi)\n",
            "  Using cached starlette-0.46.1-py3-none-any.whl.metadata (6.2 kB)\n",
            "Requirement already satisfied: pydantic!=1.8,!=1.8.1,!=2.0.0,!=2.0.1,!=2.1.0,<3.0.0,>=1.7.4 in c:\\users\\vallabh\\anaconda3\\lib\\site-packages (from fastapi) (2.8.2)\n",
            "Requirement already satisfied: typing-extensions>=4.8.0 in c:\\users\\vallabh\\anaconda3\\lib\\site-packages (from fastapi) (4.11.0)\n",
            "Requirement already satisfied: click>=7.0 in c:\\users\\vallabh\\anaconda3\\lib\\site-packages (from uvicorn) (8.1.7)\n",
            "Requirement already satisfied: h11>=0.8 in c:\\users\\vallabh\\anaconda3\\lib\\site-packages (from uvicorn) (0.14.0)\n",
            "Requirement already satisfied: PyYAML>=5.1 in c:\\users\\vallabh\\anaconda3\\lib\\site-packages (from pyngrok) (6.0.1)\n",
            "Requirement already satisfied: colorama in c:\\users\\vallabh\\anaconda3\\lib\\site-packages (from click>=7.0->uvicorn) (0.4.6)\n",
            "Requirement already satisfied: annotated-types>=0.4.0 in c:\\users\\vallabh\\anaconda3\\lib\\site-packages (from pydantic!=1.8,!=1.8.1,!=2.0.0,!=2.0.1,!=2.1.0,<3.0.0,>=1.7.4->fastapi) (0.6.0)\n",
            "Requirement already satisfied: pydantic-core==2.20.1 in c:\\users\\vallabh\\anaconda3\\lib\\site-packages (from pydantic!=1.8,!=1.8.1,!=2.0.0,!=2.0.1,!=2.1.0,<3.0.0,>=1.7.4->fastapi) (2.20.1)\n",
            "Requirement already satisfied: anyio<5,>=3.6.2 in c:\\users\\vallabh\\anaconda3\\lib\\site-packages (from starlette<0.47.0,>=0.40.0->fastapi) (4.2.0)\n",
            "Requirement already satisfied: idna>=2.8 in c:\\users\\vallabh\\anaconda3\\lib\\site-packages (from anyio<5,>=3.6.2->starlette<0.47.0,>=0.40.0->fastapi) (3.7)\n",
            "Requirement already satisfied: sniffio>=1.1 in c:\\users\\vallabh\\anaconda3\\lib\\site-packages (from anyio<5,>=3.6.2->starlette<0.47.0,>=0.40.0->fastapi) (1.3.0)\n",
            "Using cached fastapi-0.115.12-py3-none-any.whl (95 kB)\n",
            "Using cached uvicorn-0.34.0-py3-none-any.whl (62 kB)\n",
            "Downloading pyngrok-7.2.3-py3-none-any.whl (23 kB)\n",
            "Using cached starlette-0.46.1-py3-none-any.whl (71 kB)\n",
            "Installing collected packages: pyngrok, uvicorn, starlette, fastapi\n",
            "Successfully installed fastapi-0.115.12 pyngrok-7.2.3 starlette-0.46.1 uvicorn-0.34.0\n",
            "Note: you may need to restart the kernel to use updated packages.\n"
          ]
        }
      ],
      "source": [
        "%pip install fastapi uvicorn nest-asyncio pyngrok"
      ]
    },
    {
      "cell_type": "code",
      "execution_count": 2,
      "metadata": {
        "id": "_WryG_XQkfWc"
      },
      "outputs": [],
      "source": [
        "import numpy as np\n",
        "from sklearn.preprocessing import StandardScaler  # For data normalization\n",
        "from sklearn.decomposition import PCA  # For dimensionality reduction\n",
        "from sklearn.cluster import KMeans, AgglomerativeClustering, DBSCAN  # For clustering\n",
        "import matplotlib.pyplot as plt\n",
        "from sklearn.neighbors import KNeighborsClassifier\n",
        "import seaborn as sns\n",
        "import pickle\n",
        "# from groq import Groq\n",
        "from sklearn.metrics import silhouette_score\n",
        "import pandas as pd\n",
        "# from fastapi import FastAPI"
      ]
    },
    {
      "cell_type": "code",
      "execution_count": 6,
      "metadata": {},
      "outputs": [
        {
          "name": "stdout",
          "output_type": "stream",
          "text": [
            "Collecting kagglehubNote: you may need to restart the kernel to use updated packages.\n",
            "\n",
            "  Downloading kagglehub-0.3.11-py3-none-any.whl.metadata (32 kB)\n",
            "Requirement already satisfied: packaging in c:\\users\\vallabh\\anaconda3\\lib\\site-packages (from kagglehub) (24.1)\n",
            "Requirement already satisfied: pyyaml in c:\\users\\vallabh\\anaconda3\\lib\\site-packages (from kagglehub) (6.0.1)\n",
            "Requirement already satisfied: requests in c:\\users\\vallabh\\anaconda3\\lib\\site-packages (from kagglehub) (2.32.3)\n",
            "Requirement already satisfied: tqdm in c:\\users\\vallabh\\anaconda3\\lib\\site-packages (from kagglehub) (4.66.5)\n",
            "Requirement already satisfied: charset-normalizer<4,>=2 in c:\\users\\vallabh\\anaconda3\\lib\\site-packages (from requests->kagglehub) (3.3.2)\n",
            "Requirement already satisfied: idna<4,>=2.5 in c:\\users\\vallabh\\anaconda3\\lib\\site-packages (from requests->kagglehub) (3.7)\n",
            "Requirement already satisfied: urllib3<3,>=1.21.1 in c:\\users\\vallabh\\anaconda3\\lib\\site-packages (from requests->kagglehub) (2.2.3)\n",
            "Requirement already satisfied: certifi>=2017.4.17 in c:\\users\\vallabh\\anaconda3\\lib\\site-packages (from requests->kagglehub) (2024.12.14)\n",
            "Requirement already satisfied: colorama in c:\\users\\vallabh\\anaconda3\\lib\\site-packages (from tqdm->kagglehub) (0.4.6)\n",
            "Downloading kagglehub-0.3.11-py3-none-any.whl (63 kB)\n",
            "Installing collected packages: kagglehub\n",
            "Successfully installed kagglehub-0.3.11\n"
          ]
        }
      ],
      "source": [
        "%pip install kagglehub"
      ]
    },
    {
      "cell_type": "code",
      "execution_count": null,
      "metadata": {
        "colab": {
          "base_uri": "https://localhost:8080/"
        },
        "id": "qBAuhYzwfWvS",
        "outputId": "2da11a29-165a-44d0-bbbe-c7bb4e3342fe"
      },
      "outputs": [
        {
          "name": "stdout",
          "output_type": "stream",
          "text": [
            "Downloading from https://www.kaggle.com/api/v1/datasets/download/mathchi/diabetes-data-set?dataset_version_number=1...\n"
          ]
        },
        {
          "name": "stderr",
          "output_type": "stream",
          "text": [
            "100%|██████████| 8.91k/8.91k [00:00<00:00, 9.13MB/s]"
          ]
        },
        {
          "name": "stdout",
          "output_type": "stream",
          "text": [
            "Extracting files...\n",
            "Path to dataset files: C:\\Users\\Vallabh\\.cache\\kagglehub\\datasets\\mathchi\\diabetes-data-set\\versions\\1\n"
          ]
        },
        {
          "name": "stderr",
          "output_type": "stream",
          "text": [
            "\n"
          ]
        }
      ],
      "source": [
        "import kagglehub \n",
        "\n",
        "# Download latest version\n",
        "path = kagglehub.dataset_download(\"mathchi/diabetes-data-set\")\n",
        "\n",
        "print(\"Path to dataset files:\", path)"
      ]
    },
    {
      "cell_type": "code",
      "execution_count": 8,
      "metadata": {
        "colab": {
          "base_uri": "https://localhost:8080/"
        },
        "id": "xTeJ4AIsgaPH",
        "outputId": "69c4ce99-276f-4c4d-959a-15dccb7f159a"
      },
      "outputs": [
        {
          "name": "stdout",
          "output_type": "stream",
          "text": [
            "Dataset Files: ['diabetes.csv']\n"
          ]
        }
      ],
      "source": [
        "import os\n",
        "\n",
        "# List files in the downloaded dataset directory\n",
        "files = os.listdir(path)\n",
        "print(\"Dataset Files:\", files)\n"
      ]
    },
    {
      "cell_type": "code",
      "execution_count": 9,
      "metadata": {
        "colab": {
          "base_uri": "https://localhost:8080/",
          "height": 206
        },
        "id": "JCDPYjpGgaRb",
        "outputId": "62da03d0-296c-4cb6-cafb-be47106bed4b"
      },
      "outputs": [
        {
          "data": {
            "text/html": [
              "<div>\n",
              "<style scoped>\n",
              "    .dataframe tbody tr th:only-of-type {\n",
              "        vertical-align: middle;\n",
              "    }\n",
              "\n",
              "    .dataframe tbody tr th {\n",
              "        vertical-align: top;\n",
              "    }\n",
              "\n",
              "    .dataframe thead th {\n",
              "        text-align: right;\n",
              "    }\n",
              "</style>\n",
              "<table border=\"1\" class=\"dataframe\">\n",
              "  <thead>\n",
              "    <tr style=\"text-align: right;\">\n",
              "      <th></th>\n",
              "      <th>Pregnancies</th>\n",
              "      <th>Glucose</th>\n",
              "      <th>BloodPressure</th>\n",
              "      <th>SkinThickness</th>\n",
              "      <th>Insulin</th>\n",
              "      <th>BMI</th>\n",
              "      <th>DiabetesPedigreeFunction</th>\n",
              "      <th>Age</th>\n",
              "      <th>Outcome</th>\n",
              "    </tr>\n",
              "  </thead>\n",
              "  <tbody>\n",
              "    <tr>\n",
              "      <th>0</th>\n",
              "      <td>6</td>\n",
              "      <td>148</td>\n",
              "      <td>72</td>\n",
              "      <td>35</td>\n",
              "      <td>0</td>\n",
              "      <td>33.6</td>\n",
              "      <td>0.627</td>\n",
              "      <td>50</td>\n",
              "      <td>1</td>\n",
              "    </tr>\n",
              "    <tr>\n",
              "      <th>1</th>\n",
              "      <td>1</td>\n",
              "      <td>85</td>\n",
              "      <td>66</td>\n",
              "      <td>29</td>\n",
              "      <td>0</td>\n",
              "      <td>26.6</td>\n",
              "      <td>0.351</td>\n",
              "      <td>31</td>\n",
              "      <td>0</td>\n",
              "    </tr>\n",
              "    <tr>\n",
              "      <th>2</th>\n",
              "      <td>8</td>\n",
              "      <td>183</td>\n",
              "      <td>64</td>\n",
              "      <td>0</td>\n",
              "      <td>0</td>\n",
              "      <td>23.3</td>\n",
              "      <td>0.672</td>\n",
              "      <td>32</td>\n",
              "      <td>1</td>\n",
              "    </tr>\n",
              "    <tr>\n",
              "      <th>3</th>\n",
              "      <td>1</td>\n",
              "      <td>89</td>\n",
              "      <td>66</td>\n",
              "      <td>23</td>\n",
              "      <td>94</td>\n",
              "      <td>28.1</td>\n",
              "      <td>0.167</td>\n",
              "      <td>21</td>\n",
              "      <td>0</td>\n",
              "    </tr>\n",
              "    <tr>\n",
              "      <th>4</th>\n",
              "      <td>0</td>\n",
              "      <td>137</td>\n",
              "      <td>40</td>\n",
              "      <td>35</td>\n",
              "      <td>168</td>\n",
              "      <td>43.1</td>\n",
              "      <td>2.288</td>\n",
              "      <td>33</td>\n",
              "      <td>1</td>\n",
              "    </tr>\n",
              "  </tbody>\n",
              "</table>\n",
              "</div>"
            ],
            "text/plain": [
              "   Pregnancies  Glucose  BloodPressure  SkinThickness  Insulin   BMI  \\\n",
              "0            6      148             72             35        0  33.6   \n",
              "1            1       85             66             29        0  26.6   \n",
              "2            8      183             64              0        0  23.3   \n",
              "3            1       89             66             23       94  28.1   \n",
              "4            0      137             40             35      168  43.1   \n",
              "\n",
              "   DiabetesPedigreeFunction  Age  Outcome  \n",
              "0                     0.627   50        1  \n",
              "1                     0.351   31        0  \n",
              "2                     0.672   32        1  \n",
              "3                     0.167   21        0  \n",
              "4                     2.288   33        1  "
            ]
          },
          "execution_count": 9,
          "metadata": {},
          "output_type": "execute_result"
        }
      ],
      "source": [
        "import pandas as pd\n",
        "\n",
        "# Load the dataset\n",
        "file_path = os.path.join(path, \"diabetes.csv\")  # Replace with the actual file name\n",
        "df = pd.read_csv(file_path)\n",
        "\n",
        "# Display the first few rows\n",
        "df.head()\n"
      ]
    },
    {
      "cell_type": "code",
      "execution_count": 10,
      "metadata": {
        "id": "CvLQI1wBgU7S"
      },
      "outputs": [],
      "source": [
        "\n",
        "# Fill missing values\n",
        "columns_to_fix = [\"Glucose\", \"BloodPressure\", \"SkinThickness\", \"Insulin\", \"BMI\"]\n",
        "df[columns_to_fix] = df[columns_to_fix].replace(0, np.nan)\n",
        "df.fillna(df.mean(), inplace=True)\n",
        "\n",
        "# Standardize the data (exclude Outcome column)\n",
        "scaler = StandardScaler()\n",
        "scaled_data = scaler.fit_transform(df.drop(columns=[\"Outcome\"]))\n"
      ]
    },
    {
      "cell_type": "code",
      "execution_count": 11,
      "metadata": {
        "colab": {
          "base_uri": "https://localhost:8080/"
        },
        "id": "yGdqQ5vmgU9L",
        "outputId": "a065a052-0931-4bed-ff45-c5eb2b2ac6c0"
      },
      "outputs": [
        {
          "name": "stderr",
          "output_type": "stream",
          "text": [
            "c:\\Users\\Vallabh\\anaconda3\\Lib\\site-packages\\sklearn\\cluster\\_kmeans.py:1429: UserWarning: KMeans is known to have a memory leak on Windows with MKL, when there are less chunks than available threads. You can avoid it by setting the environment variable OMP_NUM_THREADS=3.\n",
            "  warnings.warn(\n"
          ]
        },
        {
          "name": "stdout",
          "output_type": "stream",
          "text": [
            "✅ Clustering using K-Means, Agglomerative, DBSCAN, and KNN completed!\n"
          ]
        }
      ],
      "source": [
        "from sklearn.neighbors import KNeighborsClassifier\n",
        "\n",
        "# Step 1: Perform K-Means Clustering first (since KNN needs predefined clusters)\n",
        "kmeans = KMeans(n_clusters=3, random_state=42, n_init=10)\n",
        "df[\"KMeans_Cluster\"] = kmeans.fit_predict(scaled_data)\n",
        "\n",
        "# Step 2: Train KNN on K-Means clusters\n",
        "knn = KNeighborsClassifier(n_neighbors=5)  # Choose appropriate k\n",
        "knn.fit(scaled_data, df[\"KMeans_Cluster\"])\n",
        "df[\"KNN_Cluster\"] = knn.predict(scaled_data)  # Predict clusters using KNN\n",
        "\n",
        "# Agglomerative Clustering\n",
        "agglo = AgglomerativeClustering(n_clusters=3)\n",
        "df[\"Agglo_Cluster\"] = agglo.fit_predict(scaled_data)\n",
        "\n",
        "# DBSCAN Clustering\n",
        "dbscan = DBSCAN(eps=1.5, min_samples=5)\n",
        "df[\"DBSCAN_Cluster\"] = dbscan.fit_predict(scaled_data)\n",
        "\n",
        "print(\"✅ Clustering using K-Means, Agglomerative, DBSCAN, and KNN completed!\")\n"
      ]
    },
    {
      "cell_type": "code",
      "execution_count": 12,
      "metadata": {
        "colab": {
          "base_uri": "https://localhost:8080/"
        },
        "id": "vpsIW1zIgVAm",
        "outputId": "1410e130-d367-41a9-daee-b32e9ff19e55"
      },
      "outputs": [
        {
          "name": "stdout",
          "output_type": "stream",
          "text": [
            "KMeans Silhouette Score: 0.19495826630875748\n",
            "Agglomerative Clustering Silhouette Score: 0.11456100982050367\n",
            "DBSCAN Silhouette Score: 0.01340865981190432\n",
            "KNN Silhouette Score: 0.19395558838273996\n"
          ]
        }
      ],
      "source": [
        "# Function to compute silhouette score\n",
        "def compute_silhouette(data, labels):\n",
        "    return silhouette_score(data, labels) if len(set(labels)) > 1 else \"N/A\"\n",
        "\n",
        "print(f\"KMeans Silhouette Score: {compute_silhouette(scaled_data, df['KMeans_Cluster'])}\")\n",
        "print(f\"Agglomerative Clustering Silhouette Score: {compute_silhouette(scaled_data, df['Agglo_Cluster'])}\")\n",
        "print(f\"DBSCAN Silhouette Score: {compute_silhouette(scaled_data, df['DBSCAN_Cluster'])}\")\n",
        "print(f\"KNN Silhouette Score: {compute_silhouette(scaled_data, df['KNN_Cluster'])}\")"
      ]
    }
  ],
  "metadata": {
    "colab": {
      "provenance": []
    },
    "kernelspec": {
      "display_name": "base",
      "language": "python",
      "name": "python3"
    },
    "language_info": {
      "codemirror_mode": {
        "name": "ipython",
        "version": 3
      },
      "file_extension": ".py",
      "mimetype": "text/x-python",
      "name": "python",
      "nbconvert_exporter": "python",
      "pygments_lexer": "ipython3",
      "version": "3.12.7"
    }
  },
  "nbformat": 4,
  "nbformat_minor": 0
}
